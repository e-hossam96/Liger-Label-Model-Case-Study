{
 "cells": [
  {
   "cell_type": "code",
   "execution_count": 9,
   "metadata": {},
   "outputs": [],
   "source": [
    "import numpy as np\n",
    "from tqdm.auto import tqdm\n",
    "from snorkel.labeling.model import LabelModel\n",
    "from sklearn.metrics import recall_score, classification_report"
   ]
  },
  {
   "cell_type": "code",
   "execution_count": 10,
   "metadata": {},
   "outputs": [],
   "source": [
    "# loading the matricies\n",
    "L_train = np.load(\"./data/L_train.npy\")\n",
    "L_valid = np.load(\"./data/L_valid.npy\")\n",
    "Y_valid = np.load(\"./data/Y_valid.npy\")"
   ]
  },
  {
   "cell_type": "code",
   "execution_count": 11,
   "metadata": {},
   "outputs": [
    {
     "data": {
      "text/plain": [
       "((3042, 7), (3042,))"
      ]
     },
     "execution_count": 11,
     "metadata": {},
     "output_type": "execute_result"
    }
   ],
   "source": [
    "L_valid.shape, Y_valid.shape"
   ]
  },
  {
   "cell_type": "code",
   "execution_count": 12,
   "metadata": {},
   "outputs": [],
   "source": [
    "num_labels = len(np.unique(Y_valid))"
   ]
  },
  {
   "cell_type": "code",
   "execution_count": 13,
   "metadata": {},
   "outputs": [
    {
     "data": {
      "application/vnd.jupyter.widget-view+json": {
       "model_id": "143d717ca8fc4ac9a2013b75c0bf02a1",
       "version_major": 2,
       "version_minor": 0
      },
      "text/plain": [
       "  0%|          | 0/10 [00:00<?, ?it/s]"
      ]
     },
     "metadata": {},
     "output_type": "display_data"
    }
   ],
   "source": [
    "best_score = 0\n",
    "best_model = None\n",
    "l2_values = np.arange(0.0, 0.1, 0.01)\n",
    "\n",
    "for l2 in tqdm(l2_values, total=len(l2_values)):\n",
    "    label_model = LabelModel(cardinality=num_labels, verbose=False, device=\"cuda\")\n",
    "    label_model.fit(\n",
    "        L_train=L_train,\n",
    "        n_epochs=2000,\n",
    "        lr_scheduler=\"linear\",\n",
    "        lr_scheduler_config={\"warmup_percentage\": 0.1, \"warmup_unit\": \"epochs\"},\n",
    "        optimizer=\"adam\",\n",
    "        l2=l2,\n",
    "        class_balance=None,\n",
    "        progress_bar=False,\n",
    "        seed=42,\n",
    "        lr=0.01,\n",
    "    )\n",
    "    preds = label_model.predict(L_valid)\n",
    "\n",
    "    labels = Y_valid[preds != -1]\n",
    "    preds = preds[preds != -1]\n",
    "    score = recall_score(labels, preds, average=\"macro\")\n",
    "    if score >= best_score:\n",
    "        best_score = score\n",
    "        best_model = label_model"
   ]
  },
  {
   "cell_type": "code",
   "execution_count": 14,
   "metadata": {},
   "outputs": [
    {
     "data": {
      "text/plain": [
       "0.7506266145733256"
      ]
     },
     "execution_count": 14,
     "metadata": {},
     "output_type": "execute_result"
    }
   ],
   "source": [
    "best_score"
   ]
  },
  {
   "cell_type": "code",
   "execution_count": 15,
   "metadata": {},
   "outputs": [],
   "source": [
    "y_pred_train = best_model.predict(L_train)\n",
    "y_pred_valid = best_model.predict(L_valid)\n",
    "np.save(\"./data/snorkel_labels_train.npy\", y_pred_train)\n",
    "np.save(\"./data/snorkel_labels_valid.npy\", y_pred_valid)"
   ]
  },
  {
   "cell_type": "code",
   "execution_count": 16,
   "metadata": {},
   "outputs": [
    {
     "name": "stdout",
     "output_type": "stream",
     "text": [
      "              precision    recall  f1-score   support\n",
      "\n",
      "           0       0.77      0.73      0.75      1201\n",
      "           1       0.73      0.77      0.75      1170\n",
      "\n",
      "    accuracy                           0.75      2371\n",
      "   macro avg       0.75      0.75      0.75      2371\n",
      "weighted avg       0.75      0.75      0.75      2371\n",
      "\n"
     ]
    }
   ],
   "source": [
    "y_true = Y_valid.copy()\n",
    "\n",
    "y_true = y_true[y_pred_valid != -1]\n",
    "y_pred = y_pred_valid[y_pred_valid != -1]\n",
    "\n",
    "print(classification_report(y_true, y_pred))"
   ]
  }
 ],
 "metadata": {
  "kernelspec": {
   "display_name": "liger_model",
   "language": "python",
   "name": "python3"
  },
  "language_info": {
   "codemirror_mode": {
    "name": "ipython",
    "version": 3
   },
   "file_extension": ".py",
   "mimetype": "text/x-python",
   "name": "python",
   "nbconvert_exporter": "python",
   "pygments_lexer": "ipython3",
   "version": "3.8.18"
  }
 },
 "nbformat": 4,
 "nbformat_minor": 2
}
