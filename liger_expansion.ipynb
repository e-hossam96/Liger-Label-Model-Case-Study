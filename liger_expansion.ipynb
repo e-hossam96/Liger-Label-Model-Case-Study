{
 "cells": [
  {
   "cell_type": "code",
   "execution_count": 1,
   "metadata": {},
   "outputs": [],
   "source": [
    "import json\n",
    "import time\n",
    "import cohere\n",
    "import numpy as np\n",
    "import pandas as pd\n",
    "from tqdm.auto import tqdm, trange\n",
    "from sklearn.metrics import pairwise\n",
    "from sklearn.metrics import recall_score\n",
    "from sklearn.metrics import classification_report\n",
    "from snorkel.labeling.model import LabelModel"
   ]
  },
  {
   "cell_type": "code",
   "execution_count": 2,
   "metadata": {},
   "outputs": [],
   "source": [
    "# with open(\"./data/access_tokens.json\") as f:\n",
    "#     cohere_key = json.load(f)[\"cohere\"][\"api_key\"]"
   ]
  },
  {
   "cell_type": "code",
   "execution_count": 3,
   "metadata": {},
   "outputs": [],
   "source": [
    "# cohere_client = cohere.Client(cohere_key)"
   ]
  },
  {
   "cell_type": "code",
   "execution_count": 4,
   "metadata": {},
   "outputs": [],
   "source": [
    "# train = pd.read_csv(\"./data/train_data.csv\", encoding=\"utf-8\")[[\"statement\"]]\n",
    "# train.head()"
   ]
  },
  {
   "cell_type": "code",
   "execution_count": 5,
   "metadata": {},
   "outputs": [],
   "source": [
    "# train_text = train.statement.to_list()"
   ]
  },
  {
   "cell_type": "code",
   "execution_count": 6,
   "metadata": {},
   "outputs": [],
   "source": [
    "# valid = pd.read_csv(\"./data/valid_data.csv\", encoding=\"utf-8\")[[\"statement\"]]\n",
    "# valid.head()"
   ]
  },
  {
   "cell_type": "code",
   "execution_count": 7,
   "metadata": {},
   "outputs": [],
   "source": [
    "# valid_text = valid.statement.to_list()"
   ]
  },
  {
   "cell_type": "code",
   "execution_count": 8,
   "metadata": {},
   "outputs": [],
   "source": [
    "# def embed_text(texts, batch_size=100, model_name=\"embed-english-v2.0\"):\n",
    "#     embeds = []\n",
    "#     for i in trange(0, len(texts), batch_size):\n",
    "#         batch = texts[i : i + batch_size]\n",
    "#         response = cohere_client.embed(texts=batch, model=model_name)\n",
    "#         embeds.extend(response.embeddings)\n",
    "#         time.sleep(30)\n",
    "#     return embeds"
   ]
  },
  {
   "cell_type": "code",
   "execution_count": 9,
   "metadata": {},
   "outputs": [],
   "source": [
    "# batch_size = 200\n",
    "# cohere_model_name = \"embed-english-v2.0\"\n",
    "# train_features = embed_text(train_text, batch_size, cohere_model_name)\n",
    "# valid_features = embed_text(valid_text, batch_size, cohere_model_name)"
   ]
  },
  {
   "cell_type": "code",
   "execution_count": 10,
   "metadata": {},
   "outputs": [],
   "source": [
    "# train_features = np.array(train_features)\n",
    "# valid_features = np.array(valid_features)"
   ]
  },
  {
   "cell_type": "code",
   "execution_count": 11,
   "metadata": {},
   "outputs": [],
   "source": [
    "# np.save(\"./data/train_features.npy\", train_features)\n",
    "# np.save(\"./data/valid_features.npy\", valid_features)"
   ]
  },
  {
   "cell_type": "code",
   "execution_count": 12,
   "metadata": {},
   "outputs": [],
   "source": [
    "# loading original labeling functions matricies\n",
    "L_train = np.load(\"./data/L_train.npy\")\n",
    "L_valid = np.load(\"./data/L_valid.npy\")"
   ]
  },
  {
   "cell_type": "code",
   "execution_count": 13,
   "metadata": {},
   "outputs": [],
   "source": [
    "# loading the llama-2-7b features\n",
    "train_features = np.load(\"./data/train_features.npy\")\n",
    "valid_features = np.load(\"./data/valid_features.npy\")"
   ]
  },
  {
   "cell_type": "code",
   "execution_count": 14,
   "metadata": {},
   "outputs": [
    {
     "data": {
      "text/plain": [
       "((12170, 4096), (3042, 4096))"
      ]
     },
     "execution_count": 14,
     "metadata": {},
     "output_type": "execute_result"
    }
   ],
   "source": [
    "train_features.shape, valid_features.shape"
   ]
  },
  {
   "cell_type": "code",
   "execution_count": 15,
   "metadata": {},
   "outputs": [
    {
     "name": "stdout",
     "output_type": "stream",
     "text": [
      "Labeling Functions Thresholds:\n",
      "[0.85, 0.85, 0.85, 0.85, 0.85, 0.85, 0.85]\n"
     ]
    }
   ],
   "source": [
    "num_lfs = L_train.shape[-1]\n",
    "thresholds = [0.85] * num_lfs\n",
    "print(f\"Labeling Functions Thresholds:\\n{thresholds}\")"
   ]
  },
  {
   "cell_type": "code",
   "execution_count": 16,
   "metadata": {},
   "outputs": [],
   "source": [
    "# defining the liger labeling functions expansion object\n",
    "\n",
    "\n",
    "class Liger:\n",
    "    def __init__(self):\n",
    "        pass\n",
    "\n",
    "    def expand_lfs(self, L_train, L_mat, train_embs, mat_embs, thresholds):\n",
    "        m = L_mat.shape[1]\n",
    "        expanded_L_mat = np.copy(L_mat)\n",
    "\n",
    "        dist_from_mat_to_train = pairwise.cosine_similarity(mat_embs, train_embs)\n",
    "\n",
    "        train_support_pos = [\n",
    "            np.argwhere(L_train[:, i] == 1).flatten() for i in range(m)\n",
    "        ]\n",
    "        train_support_neg = [\n",
    "            np.argwhere(L_train[:, i] == 0).flatten() for i in range(m)\n",
    "        ]\n",
    "\n",
    "        mat_abstains = [np.argwhere(L_mat[:, i] == -1).flatten() for i in range(m)]\n",
    "\n",
    "        pos_dists = [\n",
    "            dist_from_mat_to_train[mat_abstains[i]][:, train_support_pos[i]]\n",
    "            for i in range(m)\n",
    "        ]\n",
    "        neg_dists = [\n",
    "            dist_from_mat_to_train[mat_abstains[i]][:, train_support_neg[i]]\n",
    "            for i in range(m)\n",
    "        ]\n",
    "\n",
    "        closest_pos = [\n",
    "            np.max(pos_dists[i], axis=1)\n",
    "            if pos_dists[i].shape[1] > 0\n",
    "            else np.full(mat_abstains[i].shape, -1) # what is that?\n",
    "            for i in range(m)\n",
    "        ]\n",
    "        closest_neg = [\n",
    "            np.max(neg_dists[i], axis=1)\n",
    "            if neg_dists[i].shape[1] > 0\n",
    "            else np.full(mat_abstains[i].shape, -1) # what is that?\n",
    "            for i in range(m)\n",
    "        ]\n",
    "        new_pos = [\n",
    "            (closest_pos[i] > closest_neg[i]) & (closest_pos[i] > thresholds[i])\n",
    "            for i in range(m)\n",
    "        ]\n",
    "        new_neg = [\n",
    "            (closest_neg[i] > closest_pos[i]) & (closest_neg[i] > thresholds[i])\n",
    "            for i in range(m)\n",
    "        ]\n",
    "\n",
    "        for i in range(m):\n",
    "            expanded_L_mat[mat_abstains[i][new_pos[i]], i] = 1\n",
    "            expanded_L_mat[mat_abstains[i][new_neg[i]], i] = 0\n",
    "        return expanded_L_mat"
   ]
  },
  {
   "cell_type": "code",
   "execution_count": 17,
   "metadata": {},
   "outputs": [],
   "source": [
    "liger = Liger()\n",
    "\n",
    "L_train_expanded = liger.expand_lfs(\n",
    "    L_train, L_train, train_features, train_features, thresholds\n",
    ")\n",
    "\n",
    "L_valid_expanded = liger.expand_lfs(\n",
    "    L_train, L_valid, train_features, valid_features, thresholds\n",
    ")"
   ]
  },
  {
   "cell_type": "code",
   "execution_count": 18,
   "metadata": {},
   "outputs": [],
   "source": [
    "np.save(\"./data/L_train_expanded.npy\", L_train_expanded)\n",
    "np.save(\"./data/L_valid_expanded.npy\", L_valid_expanded)"
   ]
  }
 ],
 "metadata": {
  "kernelspec": {
   "display_name": "liger_model",
   "language": "python",
   "name": "python3"
  },
  "language_info": {
   "codemirror_mode": {
    "name": "ipython",
    "version": 3
   },
   "file_extension": ".py",
   "mimetype": "text/x-python",
   "name": "python",
   "nbconvert_exporter": "python",
   "pygments_lexer": "ipython3",
   "version": "3.8.18"
  }
 },
 "nbformat": 4,
 "nbformat_minor": 2
}
